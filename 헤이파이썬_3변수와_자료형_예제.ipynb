{
  "nbformat": 4,
  "nbformat_minor": 0,
  "metadata": {
    "colab": {
      "provenance": []
    },
    "kernelspec": {
      "name": "python3",
      "display_name": "Python 3"
    },
    "language_info": {
      "name": "python"
    }
  },
  "cells": [
    {
      "cell_type": "markdown",
      "source": [
        "#3-2 변수명 생성규칙"
      ],
      "metadata": {
        "id": "cMPf68kHWKm0"
      }
    },
    {
      "cell_type": "code",
      "execution_count": null,
      "metadata": {
        "id": "Bfu9z811TRMZ"
      },
      "outputs": [],
      "source": [
        "a = 10\n",
        "a1 = 10\n",
        "A = 10\n",
        "_A = 10\n",
        "\n",
        "price = 1000\n",
        "apple_price = 900\n",
        "score = 19.5\n",
        "name = \"헤이마트\""
      ]
    },
    {
      "cell_type": "code",
      "source": [
        "1a = 10"
      ],
      "metadata": {
        "colab": {
          "base_uri": "https://localhost:8080/",
          "height": 144
        },
        "id": "Jn8WpZjfTjI4",
        "outputId": "ae1da1f4-33fd-490c-c609-dfa8f096c0fd"
      },
      "execution_count": null,
      "outputs": [
        {
          "output_type": "error",
          "ename": "SyntaxError",
          "evalue": "invalid decimal literal (<ipython-input-3-1be9f8edb7cd>, line 1)",
          "traceback": [
            "\u001b[0;36m  File \u001b[0;32m\"<ipython-input-3-1be9f8edb7cd>\"\u001b[0;36m, line \u001b[0;32m1\u001b[0m\n\u001b[0;31m    1a = 10\u001b[0m\n\u001b[0m    ^\u001b[0m\n\u001b[0;31mSyntaxError\u001b[0m\u001b[0;31m:\u001b[0m invalid decimal literal\n"
          ]
        }
      ]
    },
    {
      "cell_type": "code",
      "source": [
        "a1 = 10"
      ],
      "metadata": {
        "id": "4-NwTzwlT5GI"
      },
      "execution_count": null,
      "outputs": []
    },
    {
      "cell_type": "code",
      "source": [
        "PRICE = 10\n",
        "price = 5\n",
        "\n",
        "print(PRICE)\n",
        "print(price)"
      ],
      "metadata": {
        "colab": {
          "base_uri": "https://localhost:8080/"
        },
        "id": "7Qfjxl27UDH_",
        "outputId": "651c96f1-502d-481b-b537-84f18c738fb3"
      },
      "execution_count": null,
      "outputs": [
        {
          "output_type": "stream",
          "name": "stdout",
          "text": [
            "10\n",
            "5\n"
          ]
        }
      ]
    },
    {
      "cell_type": "code",
      "source": [
        "import keyword\n",
        "print(keyword.kwlist)"
      ],
      "metadata": {
        "colab": {
          "base_uri": "https://localhost:8080/"
        },
        "id": "QmzFOdDwUKJC",
        "outputId": "f04fed6e-2a76-452b-89eb-6db56d12859d"
      },
      "execution_count": null,
      "outputs": [
        {
          "output_type": "stream",
          "name": "stdout",
          "text": [
            "['False', 'None', 'True', 'and', 'as', 'assert', 'async', 'await', 'break', 'class', 'continue', 'def', 'del', 'elif', 'else', 'except', 'finally', 'for', 'from', 'global', 'if', 'import', 'in', 'is', 'lambda', 'nonlocal', 'not', 'or', 'pass', 'raise', 'return', 'try', 'while', 'with', 'yield']\n"
          ]
        }
      ]
    },
    {
      "cell_type": "markdown",
      "source": [
        "#3-3 다양한 변수 생성법"
      ],
      "metadata": {
        "id": "zT7HV0XtWXhn"
      }
    },
    {
      "cell_type": "code",
      "source": [
        "a = 10\n",
        "b = 5\n",
        "c = a\n",
        "a, b, c = 2, 2, 2\n",
        "print(a)\n",
        "print(b)\n",
        "print(c)"
      ],
      "metadata": {
        "colab": {
          "base_uri": "https://localhost:8080/"
        },
        "id": "eb7S7BWpUQkn",
        "outputId": "621d151c-bf89-4191-d57f-2f807375d01e"
      },
      "execution_count": null,
      "outputs": [
        {
          "output_type": "stream",
          "name": "stdout",
          "text": [
            "2\n",
            "2\n",
            "2\n"
          ]
        }
      ]
    },
    {
      "cell_type": "markdown",
      "source": [
        "#3-4 숫자형"
      ],
      "metadata": {
        "id": "mjSLiJOtWfAX"
      }
    },
    {
      "cell_type": "code",
      "source": [
        "a = 10\n",
        "price_cola = 1200\n",
        "count = 0\n",
        "\n",
        "print(a)\n",
        "print(price_cola)\n",
        "print(count)"
      ],
      "metadata": {
        "colab": {
          "base_uri": "https://localhost:8080/"
        },
        "id": "Mn4jI7xgUXCN",
        "outputId": "6a88f0ff-9a1c-439c-9dd2-42b8ec762cc0"
      },
      "execution_count": null,
      "outputs": [
        {
          "output_type": "stream",
          "name": "stdout",
          "text": [
            "10\n",
            "1200\n",
            "0\n"
          ]
        }
      ]
    },
    {
      "cell_type": "code",
      "source": [
        "a = 0.1\n",
        "b = -0.123\n",
        "c = 1.45e3\n",
        "print(a)\n",
        "print(b)\n",
        "print(c)"
      ],
      "metadata": {
        "colab": {
          "base_uri": "https://localhost:8080/"
        },
        "id": "Y_tI2w4WU5bF",
        "outputId": "e25c721d-1a09-417d-bab9-92a67a3ae7e1"
      },
      "execution_count": null,
      "outputs": [
        {
          "output_type": "stream",
          "name": "stdout",
          "text": [
            "0.1\n",
            "-0.123\n",
            "1450.0\n"
          ]
        }
      ]
    },
    {
      "cell_type": "code",
      "source": [
        "a = 0o13\n",
        "b = 0x4a"
      ],
      "metadata": {
        "id": "Qv9G4Ar8VHlt"
      },
      "execution_count": null,
      "outputs": []
    },
    {
      "cell_type": "code",
      "source": [
        "a = 1+2\n",
        "b = 1-2\n",
        "c = 2*3\n",
        "d = 2**2\n",
        "e = 10%3\n",
        "f = 10//3\n",
        "sum = 10 + 0.1\n",
        "print(a,b,c,d,e,f,sum)"
      ],
      "metadata": {
        "colab": {
          "base_uri": "https://localhost:8080/"
        },
        "id": "KuZdpsqXVQo9",
        "outputId": "b55bf840-c651-44f2-ca31-80d1ad4a4d3f"
      },
      "execution_count": null,
      "outputs": [
        {
          "output_type": "stream",
          "name": "stdout",
          "text": [
            "3 -1 6 4 1 3 10.1\n"
          ]
        }
      ]
    },
    {
      "cell_type": "markdown",
      "source": [
        "#3-5 문자열"
      ],
      "metadata": {
        "id": "hEQp8DOxWmTw"
      }
    },
    {
      "cell_type": "code",
      "source": [
        "data = \"This's Heymart\"\n",
        "data1 = 'This's Heymart'"
      ],
      "metadata": {
        "colab": {
          "base_uri": "https://localhost:8080/",
          "height": 144
        },
        "id": "4GK03fq2Woab",
        "outputId": "d9d2b728-2a7b-4bb6-fcc8-85d5f7048dff"
      },
      "execution_count": null,
      "outputs": [
        {
          "output_type": "error",
          "ename": "SyntaxError",
          "evalue": "unterminated string literal (detected at line 2) (<ipython-input-13-b5fc6c05d4e7>, line 2)",
          "traceback": [
            "\u001b[0;36m  File \u001b[0;32m\"<ipython-input-13-b5fc6c05d4e7>\"\u001b[0;36m, line \u001b[0;32m2\u001b[0m\n\u001b[0;31m    data1 = 'This's Heymart'\u001b[0m\n\u001b[0m                           ^\u001b[0m\n\u001b[0;31mSyntaxError\u001b[0m\u001b[0;31m:\u001b[0m unterminated string literal (detected at line 2)\n"
          ]
        }
      ]
    },
    {
      "cell_type": "code",
      "source": [
        "data = '최고의 마트는 어디입니까? \"헤이마트 입니다\"'\n",
        "data1 = \"최고의 마트는 어디입니까? \"헤이마트 입니다\"\""
      ],
      "metadata": {
        "colab": {
          "base_uri": "https://localhost:8080/",
          "height": 144
        },
        "id": "FH7ixLxvVyXR",
        "outputId": "34a72f6f-cd1f-4909-f294-29d44c047e95"
      },
      "execution_count": null,
      "outputs": [
        {
          "output_type": "error",
          "ename": "SyntaxError",
          "evalue": "invalid syntax (<ipython-input-14-1340e09b6bfa>, line 2)",
          "traceback": [
            "\u001b[0;36m  File \u001b[0;32m\"<ipython-input-14-1340e09b6bfa>\"\u001b[0;36m, line \u001b[0;32m2\u001b[0m\n\u001b[0;31m    data1 = \"최고의 마트는 어디입니까? \"헤이마트 입니다\"\"\u001b[0m\n\u001b[0m                             ^\u001b[0m\n\u001b[0;31mSyntaxError\u001b[0m\u001b[0;31m:\u001b[0m invalid syntax\n"
          ]
        }
      ]
    },
    {
      "cell_type": "code",
      "source": [
        "data = '''\n",
        "HeyMart\n",
        "여러분에게 최고의\n",
        "물건을 판매하겠습니다.\n",
        "'''\n",
        "print(data)"
      ],
      "metadata": {
        "colab": {
          "base_uri": "https://localhost:8080/"
        },
        "id": "KnipvGxrXC8q",
        "outputId": "4fbc6883-e4a3-4ca2-d1b0-14eec23b139d"
      },
      "execution_count": null,
      "outputs": [
        {
          "output_type": "stream",
          "name": "stdout",
          "text": [
            "\n",
            "HeyMart \n",
            "여러분에게 최고의  \n",
            "물건을 판매하겠습니다.\n",
            "\n"
          ]
        }
      ]
    },
    {
      "cell_type": "code",
      "source": [
        "data1 = 'Hey'\n",
        "data2 = 'mart'\n",
        "result = data1 + data2\n",
        "print(result)"
      ],
      "metadata": {
        "colab": {
          "base_uri": "https://localhost:8080/"
        },
        "id": "u5E7tpw4XOxN",
        "outputId": "7fe08c50-2e2f-4030-e026-218c1e4a64d9"
      },
      "execution_count": null,
      "outputs": [
        {
          "output_type": "stream",
          "name": "stdout",
          "text": [
            "Heymart\n"
          ]
        }
      ]
    },
    {
      "cell_type": "code",
      "source": [
        "name = '젤리 : '\n",
        "count = 10\n",
        "result = name + 10\n",
        "print(result)"
      ],
      "metadata": {
        "colab": {
          "base_uri": "https://localhost:8080/",
          "height": 233
        },
        "id": "8S1FaeZEXeXa",
        "outputId": "6189660a-ec8c-40b6-93f0-d3442b208a59"
      },
      "execution_count": null,
      "outputs": [
        {
          "output_type": "error",
          "ename": "TypeError",
          "evalue": "can only concatenate str (not \"int\") to str",
          "traceback": [
            "\u001b[0;31m---------------------------------------------------------------------------\u001b[0m",
            "\u001b[0;31mTypeError\u001b[0m                                 Traceback (most recent call last)",
            "\u001b[0;32m<ipython-input-17-6a8dca5f49d5>\u001b[0m in \u001b[0;36m<cell line: 3>\u001b[0;34m()\u001b[0m\n\u001b[1;32m      1\u001b[0m \u001b[0mname\u001b[0m \u001b[0;34m=\u001b[0m \u001b[0;34m'젤리 : '\u001b[0m\u001b[0;34m\u001b[0m\u001b[0;34m\u001b[0m\u001b[0m\n\u001b[1;32m      2\u001b[0m \u001b[0mcount\u001b[0m \u001b[0;34m=\u001b[0m \u001b[0;36m10\u001b[0m\u001b[0;34m\u001b[0m\u001b[0;34m\u001b[0m\u001b[0m\n\u001b[0;32m----> 3\u001b[0;31m \u001b[0mresult\u001b[0m \u001b[0;34m=\u001b[0m \u001b[0mname\u001b[0m \u001b[0;34m+\u001b[0m \u001b[0;36m10\u001b[0m\u001b[0;34m\u001b[0m\u001b[0;34m\u001b[0m\u001b[0m\n\u001b[0m\u001b[1;32m      4\u001b[0m \u001b[0mprint\u001b[0m\u001b[0;34m(\u001b[0m\u001b[0mresult\u001b[0m\u001b[0;34m)\u001b[0m\u001b[0;34m\u001b[0m\u001b[0;34m\u001b[0m\u001b[0m\n",
            "\u001b[0;31mTypeError\u001b[0m: can only concatenate str (not \"int\") to str"
          ]
        }
      ]
    },
    {
      "cell_type": "code",
      "source": [
        "data = 'a'*10\n",
        "print(data)"
      ],
      "metadata": {
        "colab": {
          "base_uri": "https://localhost:8080/"
        },
        "id": "mjDDWQIEXylr",
        "outputId": "93a695e4-0755-454f-fa39-16053b7b4597"
      },
      "execution_count": null,
      "outputs": [
        {
          "output_type": "stream",
          "name": "stdout",
          "text": [
            "aaaaaaaaaa\n"
          ]
        }
      ]
    },
    {
      "cell_type": "code",
      "source": [
        "min_data = '901212-1234567'\n",
        "print(min_data[7])\n",
        "print(min_data[-1])"
      ],
      "metadata": {
        "colab": {
          "base_uri": "https://localhost:8080/"
        },
        "id": "PNuD-SB2X864",
        "outputId": "37109469-0cd3-47c6-cec4-f455f18f2438"
      },
      "execution_count": null,
      "outputs": [
        {
          "output_type": "stream",
          "name": "stdout",
          "text": [
            "1\n",
            "7\n"
          ]
        }
      ]
    },
    {
      "cell_type": "code",
      "source": [
        "data = '901212-1234567'\n",
        "year = data[0:2]\n",
        "print(year)"
      ],
      "metadata": {
        "colab": {
          "base_uri": "https://localhost:8080/"
        },
        "id": "yfWFEFyuZGlK",
        "outputId": "0eec2813-0c2f-4290-8fce-4ed7f2a83893"
      },
      "execution_count": null,
      "outputs": [
        {
          "output_type": "stream",
          "name": "stdout",
          "text": [
            "90\n"
          ]
        }
      ]
    },
    {
      "cell_type": "code",
      "source": [
        "data = '901212-1234567'\n",
        "min_data1 = data[8:]\n",
        "min_data2 = data[:6]\n",
        "print(min_data1)\n",
        "print(min_data2)"
      ],
      "metadata": {
        "colab": {
          "base_uri": "https://localhost:8080/"
        },
        "id": "gHsXW8FZZcPe",
        "outputId": "0c286d3f-c76f-41dc-a58b-a450b7665fca"
      },
      "execution_count": null,
      "outputs": [
        {
          "output_type": "stream",
          "name": "stdout",
          "text": [
            "234567\n",
            "901212\n"
          ]
        }
      ]
    },
    {
      "cell_type": "code",
      "source": [
        "text = '%s 고객님 환영합니다.'%'헤이마트'\n",
        "print(text)\n",
        "text = '%s 고객님 환영합니다.'%'파이썬'\n",
        "print(text)\n",
        "name = '뉴진스'\n",
        "text = '%s 고객님 환영합니다.'%name\n",
        "print(text)"
      ],
      "metadata": {
        "colab": {
          "base_uri": "https://localhost:8080/"
        },
        "id": "GwjYq-knZief",
        "outputId": "1067b1e7-3e77-4c17-d7b0-ac9c512b37f8"
      },
      "execution_count": null,
      "outputs": [
        {
          "output_type": "stream",
          "name": "stdout",
          "text": [
            "헤이마트 고객님 환영합니다.\n",
            "파이썬 고객님 환영합니다.\n",
            "뉴진스 고객님 환영합니다.\n"
          ]
        }
      ]
    },
    {
      "cell_type": "code",
      "source": [
        "text = '%s 고객님 %d번째 방문을 환영합니다.'%('헤이마트',100)\n",
        "print(text)"
      ],
      "metadata": {
        "colab": {
          "base_uri": "https://localhost:8080/"
        },
        "id": "gyfhXEMwZyDH",
        "outputId": "dbfd3749-c241-45c9-d0e7-58bcfe104745"
      },
      "execution_count": null,
      "outputs": [
        {
          "output_type": "stream",
          "name": "stdout",
          "text": [
            "헤이마트 고객님 100번째 방문을 환영합니다.\n"
          ]
        }
      ]
    },
    {
      "cell_type": "code",
      "source": [
        "text = '%s 고객님 %d번째 방문을 환영합니다.'%(100,'헤이마트')\n",
        "\n",
        "print(text)"
      ],
      "metadata": {
        "colab": {
          "base_uri": "https://localhost:8080/",
          "height": 215
        },
        "id": "WY_epKzcZ-7E",
        "outputId": "4e78af5c-9822-46ac-d4da-23d35b93f9e5"
      },
      "execution_count": null,
      "outputs": [
        {
          "output_type": "error",
          "ename": "TypeError",
          "evalue": "%d format: a real number is required, not str",
          "traceback": [
            "\u001b[0;31m---------------------------------------------------------------------------\u001b[0m",
            "\u001b[0;31mTypeError\u001b[0m                                 Traceback (most recent call last)",
            "\u001b[0;32m<ipython-input-27-0226ab2c1c6e>\u001b[0m in \u001b[0;36m<cell line: 1>\u001b[0;34m()\u001b[0m\n\u001b[0;32m----> 1\u001b[0;31m \u001b[0mtext\u001b[0m \u001b[0;34m=\u001b[0m \u001b[0;34m'%s 고객님 %d번째 방문을 환영합니다.'\u001b[0m\u001b[0;34m%\u001b[0m\u001b[0;34m(\u001b[0m\u001b[0;36m100\u001b[0m\u001b[0;34m,\u001b[0m\u001b[0;34m'헤이마트'\u001b[0m\u001b[0;34m)\u001b[0m\u001b[0;34m\u001b[0m\u001b[0;34m\u001b[0m\u001b[0m\n\u001b[0m\u001b[1;32m      2\u001b[0m \u001b[0;34m\u001b[0m\u001b[0m\n\u001b[1;32m      3\u001b[0m \u001b[0mprint\u001b[0m\u001b[0;34m(\u001b[0m\u001b[0mtext\u001b[0m\u001b[0;34m)\u001b[0m\u001b[0;34m\u001b[0m\u001b[0;34m\u001b[0m\u001b[0m\n",
            "\u001b[0;31mTypeError\u001b[0m: %d format: a real number is required, not str"
          ]
        }
      ]
    },
    {
      "cell_type": "code",
      "source": [
        "text = '{0} 고객님 환영합니다.'.format('헤이마트')\n",
        "print(text)"
      ],
      "metadata": {
        "colab": {
          "base_uri": "https://localhost:8080/"
        },
        "id": "S-kXTkBEaCbS",
        "outputId": "be738379-a17d-467a-9b68-81042b282642"
      },
      "execution_count": null,
      "outputs": [
        {
          "output_type": "stream",
          "name": "stdout",
          "text": [
            "헤이마트 고객님 환영합니다.\n"
          ]
        }
      ]
    },
    {
      "cell_type": "code",
      "source": [
        "text = '{name} 고객님 환영합니다.'.format(name = '헤이마트')\n",
        "print(text)"
      ],
      "metadata": {
        "colab": {
          "base_uri": "https://localhost:8080/"
        },
        "id": "KEOtuq_waYC-",
        "outputId": "e51fa26e-ae1b-4469-98de-3840441ada53"
      },
      "execution_count": null,
      "outputs": [
        {
          "output_type": "stream",
          "name": "stdout",
          "text": [
            "헤이마트 고객님 환영합니다.\n"
          ]
        }
      ]
    },
    {
      "cell_type": "code",
      "source": [
        "text = '{0} 고객님 {1}번째 방문을 환영합니다.'.format('헤이마트',100)\n",
        "text1 = '{name} 고객님 {count}번째 방문을 환영합니다.'.format(name = '헤이마트',count = 100)\n",
        "print(text)\n",
        "print(text1)"
      ],
      "metadata": {
        "colab": {
          "base_uri": "https://localhost:8080/"
        },
        "id": "zvXBga4yab90",
        "outputId": "fac519df-ea38-457e-ed6c-0ba2c833bba8"
      },
      "execution_count": null,
      "outputs": [
        {
          "output_type": "stream",
          "name": "stdout",
          "text": [
            "헤이마트 고객님 100번째 방문을 환영합니다.\n",
            "헤이마트 고객님 100번째 방문을 환영합니다.\n"
          ]
        }
      ]
    },
    {
      "cell_type": "code",
      "source": [
        "len('헤이마트입니다.')"
      ],
      "metadata": {
        "colab": {
          "base_uri": "https://localhost:8080/"
        },
        "id": "7zVsSTHPakn4",
        "outputId": "cc9fcf82-5936-46e5-9c34-05d364a97ee3"
      },
      "execution_count": null,
      "outputs": [
        {
          "output_type": "execute_result",
          "data": {
            "text/plain": [
              "8"
            ]
          },
          "metadata": {},
          "execution_count": 31
        }
      ]
    },
    {
      "cell_type": "code",
      "source": [
        "result1 = 'heymart'.upper()\n",
        "result2 = 'HeyMart'.lower()\n",
        "print(result1)\n",
        "print(result2)"
      ],
      "metadata": {
        "colab": {
          "base_uri": "https://localhost:8080/"
        },
        "id": "eR9ftDyFavtP",
        "outputId": "8d393f8a-6117-4638-d715-4aa8b9a1652e"
      },
      "execution_count": null,
      "outputs": [
        {
          "output_type": "stream",
          "name": "stdout",
          "text": [
            "HEYMART\n",
            "heymart\n"
          ]
        }
      ]
    },
    {
      "cell_type": "code",
      "source": [
        "text = ' 헤이마트 '\n",
        "result1 = text.strip()\n",
        "result2 = text.lstrip()\n",
        "result3 = text.rstrip()\n",
        "print(result1)\n",
        "print(result2)\n",
        "print(result3)"
      ],
      "metadata": {
        "colab": {
          "base_uri": "https://localhost:8080/"
        },
        "id": "gCoNL2gVa0OO",
        "outputId": "36931467-bc30-46b3-de0e-6d3c61db14d0"
      },
      "execution_count": null,
      "outputs": [
        {
          "output_type": "stream",
          "name": "stdout",
          "text": [
            "헤이마트\n",
            "헤이마트 \n",
            " 헤이마트\n"
          ]
        }
      ]
    },
    {
      "cell_type": "code",
      "source": [
        "text = '콜라 사이다 환타 맥콜'\n",
        "text1 = '콜라/사이다/환타/맥콜'\n",
        "result = text.split()\n",
        "result1 = text1.split('/')\n",
        "print(result)\n",
        "print(result1)"
      ],
      "metadata": {
        "colab": {
          "base_uri": "https://localhost:8080/"
        },
        "id": "owajJMADa6vc",
        "outputId": "c9224f66-e4eb-4797-c37d-4288fe00c607"
      },
      "execution_count": null,
      "outputs": [
        {
          "output_type": "stream",
          "name": "stdout",
          "text": [
            "['콜라', '사이다', '환타', '맥콜']\n",
            "['콜라', '사이다', '환타', '맥콜']\n"
          ]
        }
      ]
    },
    {
      "cell_type": "code",
      "source": [
        "text = '콜라 사이다 환타 zero콜라'\n",
        "result = text.replace('zero콜라','제로콜라')\n",
        "print(result)"
      ],
      "metadata": {
        "colab": {
          "base_uri": "https://localhost:8080/"
        },
        "id": "OxmW5rtpbGxn",
        "outputId": "cb8d9b87-310e-408f-88a6-c63279e22fbb"
      },
      "execution_count": null,
      "outputs": [
        {
          "output_type": "stream",
          "name": "stdout",
          "text": [
            "콜라 사이다 환타 제로콜라\n"
          ]
        }
      ]
    },
    {
      "cell_type": "code",
      "source": [
        "text = '콜라 사이다 환타 zero콜라 콜라 콜라 밀키스'\n",
        "result = text.count('콜라')\n",
        "print(result)"
      ],
      "metadata": {
        "colab": {
          "base_uri": "https://localhost:8080/"
        },
        "id": "_UIuUPYybRJi",
        "outputId": "cb5834d9-9e8a-4a8f-8980-de8ec4c8e01f"
      },
      "execution_count": null,
      "outputs": [
        {
          "output_type": "stream",
          "name": "stdout",
          "text": [
            "4\n"
          ]
        }
      ]
    },
    {
      "cell_type": "markdown",
      "source": [
        "#3-6 리스트"
      ],
      "metadata": {
        "id": "tQubXhf9bXA5"
      }
    },
    {
      "cell_type": "code",
      "source": [
        "user = ['고객1','고객2','고객3']\n",
        "drink = ['콜라','사이다','오렌지쥬스']\n",
        "price = [1200,1200,1000]"
      ],
      "metadata": {
        "id": "XdGelWe-bWDE"
      },
      "execution_count": null,
      "outputs": []
    },
    {
      "cell_type": "code",
      "source": [
        "data = list()\n",
        "data1 = [['고객1','010-123-4567',20],['고객2', '010-222-3333',22]]\n",
        "data2 = [1,2,3,['고객1','고객2','고객3']]"
      ],
      "metadata": {
        "id": "Xmg-symBbjQ1"
      },
      "execution_count": null,
      "outputs": []
    },
    {
      "cell_type": "code",
      "source": [
        "price = [100,200,300]\n",
        "p1 = price[0]\n",
        "p2 = price[-1]\n",
        "print(p1,p2)"
      ],
      "metadata": {
        "colab": {
          "base_uri": "https://localhost:8080/"
        },
        "id": "0C00FYamcD-C",
        "outputId": "34de1794-d560-412a-ceb1-c5c5fcde31d1"
      },
      "execution_count": null,
      "outputs": [
        {
          "output_type": "stream",
          "name": "stdout",
          "text": [
            "100 300\n"
          ]
        }
      ]
    },
    {
      "cell_type": "code",
      "source": [
        "data = [['고객1','010-123-4567',20],['고객2','010-222-3333',22]]\n",
        "print(data[0])\n",
        "print(data[0][1])"
      ],
      "metadata": {
        "colab": {
          "base_uri": "https://localhost:8080/"
        },
        "id": "cPa1MDO5cOQT",
        "outputId": "c0066a47-9cea-42c4-b381-c5ec2a507ee9"
      },
      "execution_count": null,
      "outputs": [
        {
          "output_type": "stream",
          "name": "stdout",
          "text": [
            "['고객1', '010-123-4567', 20]\n",
            "010-123-4567\n"
          ]
        }
      ]
    },
    {
      "cell_type": "code",
      "source": [
        "price = [1,200,300]\n",
        "price[0] = 100\n",
        "print(price)"
      ],
      "metadata": {
        "colab": {
          "base_uri": "https://localhost:8080/"
        },
        "id": "gcn7an-ecRtS",
        "outputId": "b1ab55dd-f70a-4bef-a904-cc72a9cbbf10"
      },
      "execution_count": null,
      "outputs": [
        {
          "output_type": "stream",
          "name": "stdout",
          "text": [
            "[100, 200, 300]\n"
          ]
        }
      ]
    },
    {
      "cell_type": "code",
      "source": [
        "week_sales = [10,20,10,30,40,50,30]\n",
        "result = week_sales[0:3]\n",
        "print(result)"
      ],
      "metadata": {
        "colab": {
          "base_uri": "https://localhost:8080/"
        },
        "id": "i0fZB9X_cXXC",
        "outputId": "5b94058c-ae4f-4c4a-a256-aa38e20cb348"
      },
      "execution_count": null,
      "outputs": [
        {
          "output_type": "stream",
          "name": "stdout",
          "text": [
            "[10, 20, 10]\n"
          ]
        }
      ]
    },
    {
      "cell_type": "code",
      "source": [
        "week_sales = [10,20,10,30,40,50,30]\n",
        "week_sales[0:3] = [100,200,100]\n",
        "print(week_sales)"
      ],
      "metadata": {
        "colab": {
          "base_uri": "https://localhost:8080/"
        },
        "id": "cPpyUl0rcc66",
        "outputId": "a97cdfdb-4022-4710-f1ed-1e1ea161b29d"
      },
      "execution_count": null,
      "outputs": [
        {
          "output_type": "stream",
          "name": "stdout",
          "text": [
            "[100, 200, 100, 30, 40, 50, 30]\n"
          ]
        }
      ]
    },
    {
      "cell_type": "code",
      "source": [
        "data1 = [1,2,3]\n",
        "data2 = [4,5,6]\n",
        "print(data1+data2)"
      ],
      "metadata": {
        "colab": {
          "base_uri": "https://localhost:8080/"
        },
        "id": "OGpNv_P8c1dx",
        "outputId": "159465c8-7eee-4c5d-d7ff-213a20a3493e"
      },
      "execution_count": null,
      "outputs": [
        {
          "output_type": "stream",
          "name": "stdout",
          "text": [
            "[1, 2, 3, 4, 5, 6]\n"
          ]
        }
      ]
    },
    {
      "cell_type": "code",
      "source": [
        "data = [1,2,3]\n",
        "print(data*3)"
      ],
      "metadata": {
        "colab": {
          "base_uri": "https://localhost:8080/"
        },
        "id": "q2BdxV0BdNlO",
        "outputId": "cb68100e-91d4-4c7a-ebea-f136a13218f0"
      },
      "execution_count": null,
      "outputs": [
        {
          "output_type": "stream",
          "name": "stdout",
          "text": [
            "[1, 2, 3, 1, 2, 3, 1, 2, 3]\n"
          ]
        }
      ]
    },
    {
      "cell_type": "code",
      "source": [
        "price = [1,2,3]\n",
        "price.append(3)\n",
        "price.append([10,20,30])\n",
        "print(price)"
      ],
      "metadata": {
        "colab": {
          "base_uri": "https://localhost:8080/"
        },
        "id": "M_k8xnr_dSHX",
        "outputId": "bf32e9a3-c47c-4697-c06c-029aac90e619"
      },
      "execution_count": null,
      "outputs": [
        {
          "output_type": "stream",
          "name": "stdout",
          "text": [
            "[1, 2, 3, 3, [10, 20, 30]]\n"
          ]
        }
      ]
    },
    {
      "cell_type": "code",
      "source": [
        "price = [1,2,3]\n",
        "price.extend([4,5,6])\n",
        "print(price)"
      ],
      "metadata": {
        "colab": {
          "base_uri": "https://localhost:8080/"
        },
        "id": "rCTJosSsdZ_Y",
        "outputId": "b678d1b3-57e1-44ed-f2f0-b3944cb9dbb4"
      },
      "execution_count": null,
      "outputs": [
        {
          "output_type": "stream",
          "name": "stdout",
          "text": [
            "[1, 2, 3, 4, 5, 6]\n"
          ]
        }
      ]
    },
    {
      "cell_type": "code",
      "source": [
        "price = [1,2,3]\n",
        "price.insert(1,10)\n",
        "print(price)"
      ],
      "metadata": {
        "colab": {
          "base_uri": "https://localhost:8080/"
        },
        "id": "SAjPZM_TdiDs",
        "outputId": "19cb2555-1fc7-41a3-ec6f-b07f8f19c434"
      },
      "execution_count": null,
      "outputs": [
        {
          "output_type": "stream",
          "name": "stdout",
          "text": [
            "[1, 10, 2, 3]\n"
          ]
        }
      ]
    },
    {
      "cell_type": "code",
      "source": [
        "drink_name = ['콜라','사이다','콜라','오렌지쥬스']\n",
        "drink_name.remove('콜라')\n",
        "print(drink_name)"
      ],
      "metadata": {
        "colab": {
          "base_uri": "https://localhost:8080/"
        },
        "id": "pbB8bByfdqrU",
        "outputId": "e898d016-55e8-492f-c2cc-2df8efbe4bf6"
      },
      "execution_count": null,
      "outputs": [
        {
          "output_type": "stream",
          "name": "stdout",
          "text": [
            "['사이다', '콜라', '오렌지쥬스']\n"
          ]
        }
      ]
    },
    {
      "cell_type": "code",
      "source": [
        "price = [1,2,3]\n",
        "data = price.pop()\n",
        "print(price)\n",
        "print(data)"
      ],
      "metadata": {
        "colab": {
          "base_uri": "https://localhost:8080/"
        },
        "id": "I3XUlbPIdxnh",
        "outputId": "625f7d65-3d4a-453b-f6f6-4758de39d643"
      },
      "execution_count": null,
      "outputs": [
        {
          "output_type": "stream",
          "name": "stdout",
          "text": [
            "[1, 2]\n",
            "3\n"
          ]
        }
      ]
    },
    {
      "cell_type": "code",
      "source": [
        "price = (1,2,3)\n",
        "name = ('사과','딸기','파인애플')\n",
        "store = ('서초점','강남점','송파점')"
      ],
      "metadata": {
        "id": "vubdHv0td7_N"
      },
      "execution_count": null,
      "outputs": []
    },
    {
      "cell_type": "code",
      "source": [
        "store = ('서초점','강남점','송파점','잠실점')\n",
        "result = store[0]\n",
        "result1 = store[0:3]\n",
        "print(result)\n",
        "print(result1)"
      ],
      "metadata": {
        "colab": {
          "base_uri": "https://localhost:8080/"
        },
        "id": "3--ICApIeCbK",
        "outputId": "fbcf2f0a-9fd9-40a8-c88e-b52d15a7823b"
      },
      "execution_count": null,
      "outputs": [
        {
          "output_type": "stream",
          "name": "stdout",
          "text": [
            "서초점\n",
            "('서초점', '강남점', '송파점')\n"
          ]
        }
      ]
    },
    {
      "cell_type": "code",
      "source": [
        "price = (1,2,3)\n",
        "price1 = (10,20,30)\n",
        "result = price+price1\n",
        "result1 = price*2\n",
        "print(result)\n",
        "print(result1)"
      ],
      "metadata": {
        "colab": {
          "base_uri": "https://localhost:8080/"
        },
        "id": "0JaKAQhxeHDt",
        "outputId": "5dc12269-a48e-4a1d-e7e5-e16c3d944d89"
      },
      "execution_count": null,
      "outputs": [
        {
          "output_type": "stream",
          "name": "stdout",
          "text": [
            "(1, 2, 3, 10, 20, 30)\n",
            "(1, 2, 3, 1, 2, 3)\n"
          ]
        }
      ]
    },
    {
      "cell_type": "code",
      "source": [
        "sale = {'name':'콜라','price':1200,'count':30}\n",
        "sales = [{'name':'콜라','price':1200},{'name':'사이다','price':1200}]\n",
        "top = {1:'콜라',2:'사이다'}\n",
        "print(sale)\n",
        "print(sales)\n",
        "print(top)"
      ],
      "metadata": {
        "colab": {
          "base_uri": "https://localhost:8080/"
        },
        "id": "TqcNDLR1ePYR",
        "outputId": "4417fd09-5caf-4786-96de-d22425f938d2"
      },
      "execution_count": null,
      "outputs": [
        {
          "output_type": "stream",
          "name": "stdout",
          "text": [
            "{'name': '콜라', 'price': 1200, 'count': 30}\n",
            "[{'name': '콜라', 'price': 1200}, {'name': '사이다', 'price': 1200}]\n",
            "{1: '콜라', 2: '사이다'}\n"
          ]
        }
      ]
    },
    {
      "cell_type": "code",
      "source": [
        "sale = {'name':'콜라','price':1200}\n",
        "name = sale['name']\n",
        "print(name)"
      ],
      "metadata": {
        "colab": {
          "base_uri": "https://localhost:8080/"
        },
        "id": "6sBK8iHEeu-p",
        "outputId": "e88ee087-0dfd-4931-ab1b-a6530aa0d608"
      },
      "execution_count": null,
      "outputs": [
        {
          "output_type": "stream",
          "name": "stdout",
          "text": [
            "콜라\n"
          ]
        }
      ]
    },
    {
      "cell_type": "code",
      "source": [
        "cola = {'name':'콜라'}\n",
        "cola['price'] = 1200\n",
        "print(cola)"
      ],
      "metadata": {
        "colab": {
          "base_uri": "https://localhost:8080/"
        },
        "id": "rpsBZHkbe1XS",
        "outputId": "7c21f7d4-7b0d-46df-a9c0-7c0d03263d36"
      },
      "execution_count": null,
      "outputs": [
        {
          "output_type": "stream",
          "name": "stdout",
          "text": [
            "{'name': '콜라', 'price': 1200}\n"
          ]
        }
      ]
    },
    {
      "cell_type": "code",
      "source": [
        "cola = {'name':'콜라','price':1000,'price1':100}\n",
        "del cola['price1']\n",
        "print(cola)"
      ],
      "metadata": {
        "colab": {
          "base_uri": "https://localhost:8080/"
        },
        "id": "cTAcYwIgfG6y",
        "outputId": "241dca9c-f480-4945-a237-6e3a155aa22b"
      },
      "execution_count": null,
      "outputs": [
        {
          "output_type": "stream",
          "name": "stdout",
          "text": [
            "{'name': '콜라', 'price': 1000}\n"
          ]
        }
      ]
    },
    {
      "cell_type": "code",
      "source": [
        "cola = {'name':'콜라','price':1000,'price1':100}\n",
        "value = cola.get('name')\n",
        "print(value)"
      ],
      "metadata": {
        "colab": {
          "base_uri": "https://localhost:8080/"
        },
        "id": "qLJFGMk_fWeR",
        "outputId": "d92718b9-638e-4efc-824f-5981503ebf13"
      },
      "execution_count": null,
      "outputs": [
        {
          "output_type": "stream",
          "name": "stdout",
          "text": [
            "콜라\n"
          ]
        }
      ]
    },
    {
      "cell_type": "code",
      "source": [
        "cola = {'name':'콜라','price':1000,'price1':100}\n",
        "keys = cola.keys()\n",
        "print(keys)"
      ],
      "metadata": {
        "colab": {
          "base_uri": "https://localhost:8080/"
        },
        "id": "gd_TUr7GfnKv",
        "outputId": "74227a0a-9b71-49bb-cc20-b76d5b566180"
      },
      "execution_count": null,
      "outputs": [
        {
          "output_type": "stream",
          "name": "stdout",
          "text": [
            "dict_keys(['name', 'price', 'price1'])\n"
          ]
        }
      ]
    },
    {
      "cell_type": "code",
      "source": [
        "list(cola.keys())"
      ],
      "metadata": {
        "colab": {
          "base_uri": "https://localhost:8080/"
        },
        "id": "mdHxTHGdfrxS",
        "outputId": "449393cc-116e-46de-da9e-8ef442037d25"
      },
      "execution_count": null,
      "outputs": [
        {
          "output_type": "execute_result",
          "data": {
            "text/plain": [
              "['name', 'price', 'price1']"
            ]
          },
          "metadata": {},
          "execution_count": 62
        }
      ]
    },
    {
      "cell_type": "code",
      "source": [
        "cola = {'name':'콜라','price':1000,'price1':100}\n",
        "values = cola.values()\n",
        "print(values)"
      ],
      "metadata": {
        "colab": {
          "base_uri": "https://localhost:8080/"
        },
        "id": "DvMslolQfzYg",
        "outputId": "911aeef2-2b51-4bb4-92b0-4d176f586cdc"
      },
      "execution_count": null,
      "outputs": [
        {
          "output_type": "stream",
          "name": "stdout",
          "text": [
            "dict_values(['콜라', 1000, 100])\n"
          ]
        }
      ]
    },
    {
      "cell_type": "code",
      "source": [
        "cola = {'name':'콜라','price':1000,'price1':100}\n",
        "items = cola.items()\n",
        "print(items)"
      ],
      "metadata": {
        "colab": {
          "base_uri": "https://localhost:8080/"
        },
        "id": "-B3RBIV4f50K",
        "outputId": "0afed8a1-cb3d-4c27-9e27-0763a5368658"
      },
      "execution_count": null,
      "outputs": [
        {
          "output_type": "stream",
          "name": "stdout",
          "text": [
            "dict_items([('name', '콜라'), ('price', 1000), ('price1', 100)])\n"
          ]
        }
      ]
    },
    {
      "cell_type": "code",
      "source": [
        "open = True   #마트오픈중\n",
        "sale = False  #세일안함"
      ],
      "metadata": {
        "id": "-W90tmU6f_CA"
      },
      "execution_count": null,
      "outputs": []
    },
    {
      "cell_type": "code",
      "source": [
        "price = [100,200,300,100,200,300]\n",
        "set(price)"
      ],
      "metadata": {
        "colab": {
          "base_uri": "https://localhost:8080/"
        },
        "id": "VtsufzBFgK94",
        "outputId": "33af06d4-848c-4c94-f422-3b8244bf8bb8"
      },
      "execution_count": null,
      "outputs": [
        {
          "output_type": "execute_result",
          "data": {
            "text/plain": [
              "{100, 200, 300}"
            ]
          },
          "metadata": {},
          "execution_count": 66
        }
      ]
    },
    {
      "cell_type": "code",
      "source": [
        "price1 = set([100,200,300,400])\n",
        "price2 = set([10,200,150,400])\n",
        "result1 = price1 & price2\n",
        "result2 = price1.intersection(price2)\n",
        "print(result1)\n",
        "print(result2)"
      ],
      "metadata": {
        "colab": {
          "base_uri": "https://localhost:8080/"
        },
        "id": "zJOp_TgHgRCP",
        "outputId": "6e88acb2-ef8c-49c2-d2d2-219fb5bdab70"
      },
      "execution_count": null,
      "outputs": [
        {
          "output_type": "stream",
          "name": "stdout",
          "text": [
            "{200, 400}\n",
            "{200, 400}\n"
          ]
        }
      ]
    },
    {
      "cell_type": "code",
      "source": [
        "price1 = set([100,200,300,400])\n",
        "price2 = set([10,200,150,400])\n",
        "result1 = price1 | price2\n",
        "result2 = price1.union(price2)\n",
        "print(result1)\n",
        "print(result2)"
      ],
      "metadata": {
        "colab": {
          "base_uri": "https://localhost:8080/"
        },
        "id": "aSmksV-ggZBc",
        "outputId": "c60923fc-b21a-40b0-89a5-9ee1e0e12a46"
      },
      "execution_count": null,
      "outputs": [
        {
          "output_type": "stream",
          "name": "stdout",
          "text": [
            "{100, 200, 10, 300, 400, 150}\n",
            "{100, 200, 10, 300, 400, 150}\n"
          ]
        }
      ]
    },
    {
      "cell_type": "code",
      "source": [
        "price1 = set([100,200,300,400])\n",
        "price2 = set([10,200,150,400])\n",
        "result1 = price1 - price2\n",
        "result2 = price1.difference(price2)\n",
        "print(result1)\n",
        "print(result2)"
      ],
      "metadata": {
        "colab": {
          "base_uri": "https://localhost:8080/"
        },
        "id": "5yXb9JVBgdhY",
        "outputId": "ca46aacb-901b-409e-f57e-9d60c80e4e7c"
      },
      "execution_count": null,
      "outputs": [
        {
          "output_type": "stream",
          "name": "stdout",
          "text": [
            "{100, 300}\n",
            "{100, 300}\n"
          ]
        }
      ]
    },
    {
      "cell_type": "code",
      "source": [],
      "metadata": {
        "id": "bjqQ62Ekghul"
      },
      "execution_count": null,
      "outputs": []
    }
  ]
}